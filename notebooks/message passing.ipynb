{
 "cells": [
  {
   "cell_type": "markdown",
   "id": "fcf63499-d9b5-4d17-a682-fe466fb85788",
   "metadata": {},
   "source": [
    "# Message Passing network\n",
    "Code is based on https://keras.io/examples/graph/mpnn-molecular-graphs/.\n",
    "It was refactored and updated.\n",
    "\n",
    "implement an MPNN based on the original paper [Neural Message Passing for Quantum Chemistry](https://arxiv.org/abs/1704.01212) and [DeepChem's MPNNModel](https://deepchem.readthedocs.io/en/latest/api_reference/models.html#mpnnmodel)."
   ]
  },
  {
   "cell_type": "code",
   "execution_count": null,
   "id": "7c34f034-ab9e-4ee0-baf7-ad02311653e6",
   "metadata": {},
   "outputs": [],
   "source": [
    "import sys\n",
    "import os\n",
    "import numpy as np\n",
    "import warnings\n",
    "from rdkit import RDLogger\n",
    "from rdkit.Chem.Draw import IPythonConsole\n",
    "\n",
    "# Temporary suppress warnings and RDKit logs\n",
    "warnings.filterwarnings(\"ignore\")\n",
    "RDLogger.DisableLog(\"rdApp.*\")\n",
    "# Temporary suppress tf logs\n",
    "os.environ[\"TF_CPP_MIN_LOG_LEVEL\"] = \"3\"\n",
    "\n",
    "np.random.seed(42)\n",
    "sys.path.append(\"../\")"
   ]
  },
  {
   "cell_type": "code",
   "execution_count": null,
   "id": "8ff52f70-1d30-4e6e-8fce-40fc3e966627",
   "metadata": {},
   "outputs": [],
   "source": [
    "from src.data import load_data\n",
    "from src.features import smiles_bio\n",
    "from src.models.mpnn import MPNNModel\n",
    "from src.models.mpnn_trainer import MPNNTrainer\n",
    "from src.visualisation.smiles_vis import visualise_molecule\n",
    "from src.validation.mpnn_val import look_up"
   ]
  },
  {
   "cell_type": "markdown",
   "id": "bc251578-233d-4040-870d-b0e0ac630e98",
   "metadata": {},
   "source": [
    "# Data"
   ]
  },
  {
   "cell_type": "code",
   "execution_count": null,
   "id": "f2a05fe8-20f1-47ef-b950-64d497de5fc3",
   "metadata": {},
   "outputs": [],
   "source": [
    "df = load_data.load_csv_bbbp()"
   ]
  },
  {
   "cell_type": "code",
   "execution_count": null,
   "id": "dd4e64ec-6358-4291-ba23-24c40b033d02",
   "metadata": {},
   "outputs": [],
   "source": [
    "df.info()"
   ]
  },
  {
   "cell_type": "code",
   "execution_count": null,
   "id": "e47b4a1a-669d-42c0-be79-93f4aedaaefe",
   "metadata": {},
   "outputs": [],
   "source": [
    "df.iloc[55:60]"
   ]
  },
  {
   "cell_type": "markdown",
   "id": "1812989a-24b0-4df5-96ca-c9eace0100ce",
   "metadata": {},
   "source": [
    "# Features"
   ]
  },
  {
   "cell_type": "markdown",
   "id": "4948e0ed-a1b1-4097-92b0-78bb160e715d",
   "metadata": {},
   "source": [
    "## SMILES to graph"
   ]
  },
  {
   "cell_type": "code",
   "execution_count": null,
   "id": "f1c67f81-12cd-42e0-b903-d1a64d072b15",
   "metadata": {},
   "outputs": [],
   "source": [
    "atom_featurizer = smiles_bio.AtomFeaturizer(\n",
    "    allowable_sets={\n",
    "        \"symbol\": {\"B\", \"Br\", \"C\", \"Ca\", \"Cl\", \"F\", \"H\", \"I\", \"N\", \"Na\", \"O\", \"P\", \"S\"},\n",
    "        \"n_valence\": {0, 1, 2, 3, 4, 5, 6},\n",
    "        \"n_hydrogens\": {0, 1, 2, 3, 4},\n",
    "        \"hybridization\": {\"s\", \"sp\", \"sp2\", \"sp3\"},\n",
    "    }\n",
    ")\n",
    "\n",
    "bond_featurizer = smiles_bio.BondFeaturizer(\n",
    "    allowable_sets={\n",
    "        \"bond_type\": {\"single\", \"double\", \"triple\", \"aromatic\"},\n",
    "        \"conjugated\": {True, False},\n",
    "    }\n",
    ")"
   ]
  },
  {
   "cell_type": "code",
   "execution_count": null,
   "id": "e681aa2e-909b-49c8-8df2-b73e61268d15",
   "metadata": {},
   "outputs": [],
   "source": [
    "# Shuffle array of indices ranging from 0 to 2049\n",
    "permuted_indices = np.random.permutation(np.arange(df.shape[0]))"
   ]
  },
  {
   "cell_type": "code",
   "execution_count": null,
   "id": "2ca98368-e0cd-49ca-ac66-195aeb107584",
   "metadata": {},
   "outputs": [],
   "source": [
    "# Train set: 80 % of data\n",
    "train_index = permuted_indices[: int(df.shape[0] * 0.8)]\n",
    "x_train = smiles_bio.graphs_from_smiles(df.iloc[train_index].smiles, atom_featurizer, bond_featurizer)\n",
    "y_train = df.iloc[train_index].p_np"
   ]
  },
  {
   "cell_type": "code",
   "execution_count": null,
   "id": "7f134f78-bd4e-4127-8385-26dcef2566ad",
   "metadata": {},
   "outputs": [],
   "source": [
    "# Valid set: 19 % of data\n",
    "valid_index = permuted_indices[int(df.shape[0] * 0.8) : int(df.shape[0] * 0.99)]\n",
    "x_valid = smiles_bio.graphs_from_smiles(df.iloc[valid_index].smiles, atom_featurizer, bond_featurizer)\n",
    "y_valid = df.iloc[valid_index].p_np"
   ]
  },
  {
   "cell_type": "code",
   "execution_count": null,
   "id": "2ceb6cc4-c2cb-47bb-991c-7ca161e1f428",
   "metadata": {},
   "outputs": [],
   "source": [
    "# Test set: 1 % of data\n",
    "test_index = permuted_indices[int(df.shape[0] * 0.99) :]\n",
    "x_test = smiles_bio.graphs_from_smiles(df.iloc[test_index].smiles, atom_featurizer, bond_featurizer)\n",
    "y_test = df.iloc[test_index].p_np"
   ]
  },
  {
   "cell_type": "code",
   "execution_count": null,
   "id": "ac285dab-9cbf-49f9-baf6-98f5ba76203f",
   "metadata": {},
   "outputs": [],
   "source": [
    "molecule = visualise_molecule(df, 100)\n",
    "molecule"
   ]
  },
  {
   "cell_type": "code",
   "execution_count": null,
   "id": "84ae1b14-7623-47f7-a20e-0c74f1ce7013",
   "metadata": {},
   "outputs": [],
   "source": [
    "graph = smiles_bio.graph_from_molecule(molecule, atom_featurizer, bond_featurizer)\n",
    "print(\"Graph (including self-loops):\")\n",
    "print(\"\\tatom features\\t\", graph[0].shape)\n",
    "print(\"\\tbond features\\t\", graph[1].shape)\n",
    "print(\"\\tpair indices\\t\", graph[2].shape)"
   ]
  },
  {
   "cell_type": "markdown",
   "id": "a943c2ea-3f90-43f0-bcf6-e36b99fb74f6",
   "metadata": {},
   "source": [
    "## tf.data.Dataset"
   ]
  },
  {
   "cell_type": "code",
   "execution_count": null,
   "id": "6931f2cf-7dfd-468a-a5f4-44ead5b04dac",
   "metadata": {},
   "outputs": [],
   "source": [
    "train_dataset = smiles_bio.MPNNDataset(x_train, y_train)\n",
    "valid_dataset = smiles_bio.MPNNDataset(x_valid, y_valid)\n",
    "test_dataset = smiles_bio.MPNNDataset(x_test, y_test)"
   ]
  },
  {
   "cell_type": "markdown",
   "id": "6f561dcc-e98c-494e-8518-d4dccbb054ac",
   "metadata": {},
   "source": [
    "# Model"
   ]
  },
  {
   "cell_type": "code",
   "execution_count": null,
   "id": "3ea57f3a-b564-453b-9f20-a8b56c9f224c",
   "metadata": {},
   "outputs": [],
   "source": [
    "trainer = MPNNTrainer(x_train)"
   ]
  },
  {
   "cell_type": "code",
   "execution_count": null,
   "id": "994f9a67-7e3b-4715-9f3a-d068afbc675d",
   "metadata": {},
   "outputs": [],
   "source": [
    "trainer.model.summary()"
   ]
  },
  {
   "cell_type": "code",
   "execution_count": null,
   "id": "0d98d3cd-dfd5-4a4c-863a-ae5327a96192",
   "metadata": {},
   "outputs": [],
   "source": [
    "history = trainer.train(train_dataset, valid_dataset, epochs=40)"
   ]
  },
  {
   "cell_type": "markdown",
   "id": "05d3a2ff-1c95-491b-8058-ca08ac3103f7",
   "metadata": {},
   "source": [
    "# Validation"
   ]
  },
  {
   "cell_type": "code",
   "execution_count": null,
   "id": "3fa2d557-69e2-4f91-b559-9d252af4386c",
   "metadata": {},
   "outputs": [],
   "source": [
    "molecules, legends, grid = look_up(trainer, df, test_dataset, test_index)\n",
    "grid"
   ]
  },
  {
   "cell_type": "code",
   "execution_count": null,
   "id": "6cf45e6f-f400-4f02-bf7c-c320066206d7",
   "metadata": {},
   "outputs": [],
   "source": [
    "grid.save(\"molecules.png\")"
   ]
  }
 ],
 "metadata": {
  "kernelspec": {
   "display_name": "gnn_venv",
   "language": "python",
   "name": "gnn_venv"
  },
  "language_info": {
   "codemirror_mode": {
    "name": "ipython",
    "version": 3
   },
   "file_extension": ".py",
   "mimetype": "text/x-python",
   "name": "python",
   "nbconvert_exporter": "python",
   "pygments_lexer": "ipython3",
   "version": "3.9.2"
  },
  "toc-autonumbering": true
 },
 "nbformat": 4,
 "nbformat_minor": 5
}
